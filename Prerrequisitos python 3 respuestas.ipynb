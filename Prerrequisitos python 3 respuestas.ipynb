{
 "cells": [
  {
   "cell_type": "code",
   "execution_count": 15,
   "metadata": {},
   "outputs": [
    {
     "name": "stdout",
     "output_type": "stream",
     "text": [
      "Digite un numero 400\n",
      "Pacora\n"
     ]
    }
   ],
   "source": [
    "ingreso = float(input('Digite un numero '))\n",
    "\n",
    "if ingreso>1<500:\n",
    "    print('Pacora')\n",
    "    \n",
    "if ingreso>500<1000:\n",
    "    print('Las cumbres')\n",
    "    \n",
    "if ingreso>1000<3000:\n",
    "    print('El dorado')\n",
    "    \n",
    "if ingreso>3000<5000:\n",
    "    print('San Francisco')\n",
    "    \n",
    "if ingreso>5000:\n",
    "    print('Altos del Maria')"
   ]
  },
  {
   "cell_type": "code",
   "execution_count": 21,
   "metadata": {},
   "outputs": [
    {
     "name": "stdout",
     "output_type": "stream",
     "text": [
      "Digite un numero 8\n",
      "Ese es el numero, atinaste\n"
     ]
    }
   ],
   "source": [
    "\n",
    "respuesta = 8\n",
    "numero    = float(input('Digite un numero '))# el numero que ud eligio\n",
    "\n",
    "if respuesta > numero:\n",
    "    print('Te fuiste muy abajo')\n",
    "if respuesta < numero: \n",
    "    print('Te fuiste muy arriba')\n",
    "if respuesta == numero:\n",
    "    print('Ese es el numero, atinaste')\n",
    "    "
   ]
  },
  {
   "cell_type": "code",
   "execution_count": 24,
   "metadata": {},
   "outputs": [
    {
     "name": "stdout",
     "output_type": "stream",
     "text": [
      "Escriba su salario 1575\n",
      "153.5625\n",
      "19.6875\n"
     ]
    }
   ],
   "source": [
    "salario = float(input ('Escriba su salario '))\n",
    "if salario > 900:\n",
    "    SegSocial = salario*0.0975\n",
    "    SegEdu = salario*0.0125\n",
    "    \n",
    "print(SegSocial)\n",
    "print(SegEdu)"
   ]
  },
  {
   "cell_type": "code",
   "execution_count": 42,
   "metadata": {},
   "outputs": [
    {
     "name": "stdout",
     "output_type": "stream",
     "text": [
      "Introduzca un valor de tiempo 10\n",
      "Introduzca una distancia 0.5\n",
      "Introduzca una velocidad 0.2\n"
     ]
    }
   ],
   "source": [
    "tiempo = float(input('Introduzca un valor de tiempo '))\n",
    "distancia =  float(input('Introduzca una distancia '))\n",
    "velocidad = float(input('Introduzca una velocidad '))\n",
    "def colision(tiempo, distancia, velocidad):\n",
    "    if tiempo==10 and distancia==0.5 and velocidad==0.2:\n",
    "        print('Habra una colision')\n",
    "    else:\n",
    "        print('No habra colision')\n",
    "\n",
    "\n"
   ]
  },
  {
   "cell_type": "code",
   "execution_count": 47,
   "metadata": {},
   "outputs": [
    {
     "name": "stdout",
     "output_type": "stream",
     "text": [
      "Na\n",
      "Br\n",
      "Ca\n",
      "Cu\n",
      "Au\n",
      "Nd\n",
      "Ag\n"
     ]
    }
   ],
   "source": [
    "table_periodica = ['na', 'br', 'ca', 'cu', 'au', 'nd', 'ag']\n",
    "for elemento in table_periodica:\n",
    "    print(elemento.title())"
   ]
  },
  {
   "cell_type": "code",
   "execution_count": 61,
   "metadata": {},
   "outputs": [
    {
     "name": "stdout",
     "output_type": "stream",
     "text": [
      "Dame un numero\n",
      "6\n",
      "720\n"
     ]
    }
   ],
   "source": [
    "factorial=1\n",
    "print(\"Dame un numero\")\n",
    "x=eval (input())\n",
    "for i in range (1,x+1):\n",
    "    factorial=factorial*i\n",
    " \n",
    "print(factorial)"
   ]
  },
  {
   "cell_type": "code",
   "execution_count": 62,
   "metadata": {},
   "outputs": [
    {
     "name": "stdout",
     "output_type": "stream",
     "text": [
      "ingrese un numero\n",
      "30\n",
      "465\n"
     ]
    }
   ],
   "source": [
    "sum=0\n",
    "Num=int(input(\"ingrese un numero\\n\"))\n",
    "for i in range(1,Num+1):\n",
    " sum=sum+i\n",
    "print(sum)"
   ]
  },
  {
   "cell_type": "code",
   "execution_count": 128,
   "metadata": {},
   "outputs": [
    {
     "name": "stdout",
     "output_type": "stream",
     "text": [
      "kenshin himura\n",
      "kamiya kaoru\n",
      "myōjin yahiko\n",
      "sagara sanosuke\n",
      "takani megumi\n",
      "shinomori aoshi\n",
      "saitō hajime\n",
      "makimachi misao\n"
     ]
    }
   ],
   "source": [
    "A= ('Kenshin Himura')\n",
    "B= ('Kamiya Kaoru')\n",
    "C= ('Myōjin Yahiko')\n",
    "D= ('Sagara Sanosuke')\n",
    "E= ('Takani Megumi')\n",
    "F= ('Shinomori Aoshi')\n",
    "G= ('Saitō Hajime')\n",
    "H= ('Makimachi Misao')\n",
    "\n",
    "A.replace(\" \",\"-\")\n",
    "print(A.lower())\n",
    "B.replace(\" \",\"-\")\n",
    "print(B.lower())\n",
    "C.replace(\" \",\"-\")\n",
    "print(C.lower())\n",
    "D.replace(\" \",\"-\")\n",
    "print(D.lower())\n",
    "E.replace(\" \",\"-\")\n",
    "print(E.lower())\n",
    "F.replace(\" \",\"-\")\n",
    "print(F.lower())\n",
    "G.replace(\" \",\"-\")\n",
    "print(G.lower())\n",
    "H.replace(\" \",\"-\")\n",
    "print(H.lower())"
   ]
  },
  {
   "cell_type": "code",
   "execution_count": 131,
   "metadata": {},
   "outputs": [
    {
     "name": "stdout",
     "output_type": "stream",
     "text": [
      "0\n",
      "1\n",
      "2\n",
      "3\n",
      "4\n",
      "5\n",
      "6\n",
      "7\n",
      "8\n",
      "9\n",
      "10\n"
     ]
    }
   ],
   "source": [
    "numeros = {0:'cero', 1:'uno', 2:'dos', 3:'tres', 4:'cuatro', 5:'cinco',\n",
    "           6:'seis', 7:'siete', 8:'ocho', 9:'nueve', 10:'diez'}\n",
    "\n",
    "for key in numeros.keys():\n",
    "    print(key)"
   ]
  },
  {
   "cell_type": "code",
   "execution_count": 135,
   "metadata": {},
   "outputs": [
    {
     "name": "stdout",
     "output_type": "stream",
     "text": [
      "Dame un numero\n",
      "6\n",
      "720\n"
     ]
    }
   ],
   "source": [
    "factorial=int(1)\n",
    "print(\"Dame un numero\")\n",
    "numero = int(input())\n",
    "while(numero !=0):\n",
    "    factorial = factorial * numero;\n",
    "    numero = numero -1\n",
    "\n",
    "print(factorial)"
   ]
  },
  {
   "cell_type": "code",
   "execution_count": null,
   "metadata": {},
   "outputs": [],
   "source": [
    "num = 456\n",
    "\n",
    "    \n",
    "#print('El número más cercano es {}'.format())"
   ]
  },
  {
   "cell_type": "code",
   "execution_count": 4,
   "metadata": {},
   "outputs": [
    {
     "name": "stdout",
     "output_type": "stream",
     "text": [
      " No se espera ['Baboso', 'Bocachancla', 'Charlatan', 'Cretino', 'Fanfarrón', 'Lerdo', 'Patan', 'Zoquete']\n",
      " Vida mía\n",
      " No se espera ['Baboso', 'Bocachancla', 'Charlatan', 'Cretino', 'Fanfarrón', 'Lerdo', 'Patan', 'Zoquete']\n",
      " No se espera ['Baboso', 'Bocachancla', 'Charlatan', 'Cretino', 'Fanfarrón', 'Lerdo', 'Patan', 'Zoquete']\n",
      " Cielo\n",
      " Cielito\n",
      " Mi vida\n",
      " Mi luz\n",
      " Luz de mis ojos\n",
      " Bebecita\n",
      " Cariño\n",
      " Papacito\n",
      " No se espera ['Baboso', 'Bocachancla', 'Charlatan', 'Cretino', 'Fanfarrón', 'Lerdo', 'Patan', 'Zoquete']\n",
      " Cariño mío\n",
      " No se espera ['Baboso', 'Bocachancla', 'Charlatan', 'Cretino', 'Fanfarrón', 'Lerdo', 'Patan', 'Zoquete']\n",
      " Cari\n",
      " Corazón\n",
      " Mi rey\n",
      " No se espera ['Baboso', 'Bocachancla', 'Charlatan', 'Cretino', 'Fanfarrón', 'Lerdo', 'Patan', 'Zoquete']\n",
      " Osito\n",
      " Bombón\n",
      " No se espera ['Baboso', 'Bocachancla', 'Charlatan', 'Cretino', 'Fanfarrón', 'Lerdo', 'Patan', 'Zoquete']\n",
      " Dulzura\n",
      " Galletita\n",
      " No se espera ['Baboso', 'Bocachancla', 'Charlatan', 'Cretino', 'Fanfarrón', 'Lerdo', 'Patan', 'Zoquete']\n"
     ]
    }
   ],
   "source": [
    "palabras = ['Cretino', 'Vida mía', 'Baboso', 'Bocachancla','Cielo', 'Cielito', 'Mi vida', 'Mi luz', \n",
    "            'Luz de mis ojos', 'Bebecita', 'Cariño', 'Papacito', 'Zoquete', 'Cariño mío', 'Patan', 'Cari', \n",
    "            'Corazón', 'Mi rey', 'Lerdo','Osito', 'Bombón', 'Charlatan', 'Dulzura', 'Galletita', \n",
    "            'Fanfarrón']\n",
    "ofensas = ['Baboso', 'Bocachancla', 'Charlatan', 'Cretino', 'Fanfarrón', 'Lerdo', 'Patan', 'Zoquete']\n",
    "count = 0\n",
    "for piropos in palabras:\n",
    "    if piropos in ofensas:\n",
    "        print(f' No se espera {ofensas}')\n",
    "        continue\n",
    "    else:\n",
    "        count = count + 1\n",
    "        print(f' {piropos}')"
   ]
  },
  {
   "cell_type": "code",
   "execution_count": 139,
   "metadata": {},
   "outputs": [
    {
     "name": "stdout",
     "output_type": "stream",
     "text": [
      "[('frutas', 320), ('vegetales', 655), ('juguetes', 880), ('cereales', 375), ('detergente', 450), ('hogar', 200), ('farmacia', 499), ('papel', 1000), ('otros', 932)]\n",
      "frutas 320\n",
      "vegetales 655\n",
      "juguetes 880\n",
      "cereales 375\n",
      "detergente 450\n",
      "hogar 200\n",
      "farmacia 499\n",
      "papel 1000\n",
      "otros 932\n"
     ]
    }
   ],
   "source": [
    "item = ['frutas', 'vegetales', 'juguetes', 'cereales', 'detergente', 'hogar', 'farmacia', 'papel', 'otros']\n",
    "peso = [320, 655, 880, 375, 450, 200, 499, 1000, 932]\n",
    "\n",
    "\n",
    "print(list(zip(item, peso)))\n",
    "for n, w in zip(item, peso):\n",
    "    print(n, w)"
   ]
  },
  {
   "cell_type": "code",
   "execution_count": 160,
   "metadata": {},
   "outputs": [
    {
     "name": "stdout",
     "output_type": "stream",
     "text": [
      "[1, 2, 3, 4, 5]\n",
      "[-1, -2, -3, -4, -5]\n"
     ]
    }
   ],
   "source": [
    "tup = ((1,-1), (2,-2), (3,-3), (4,-4), (5,-5))\n",
    "pos,neg = zip(*tup)\n",
    "pos = list(pos)\n",
    "neg = list(neg)\n",
    "print(pos)\n",
    "print(neg)"
   ]
  },
  {
   "cell_type": "code",
   "execution_count": 169,
   "metadata": {},
   "outputs": [
    {
     "name": "stdout",
     "output_type": "stream",
     "text": [
      "([1, 5, 9, 13, 17], [2, 6, 10, 14, 18], [3, 7, 11, 15, 19], [4, 8, 12, 16, 20])\n"
     ]
    }
   ],
   "source": [
    "matriz5x4 = (( 1, 2, 3, 4),\n",
    "             ( 5, 6, 7, 8),\n",
    "             ( 9,10,11,12),\n",
    "             (13,14,15,16),\n",
    "             (17,18,19,20))\n",
    "n,w,x,i = zip(*matriz5x4)\n",
    "n = list(n)\n",
    "w = list(w)\n",
    "x = list(x)\n",
    "i = list(i)\n",
    "#print(n)\n",
    "matriz4x5 =(n,w,x,i)\n",
    "print(matriz4x5) #note que la respuesta es un tuple nuevamente"
   ]
  },
  {
   "cell_type": "code",
   "execution_count": 173,
   "metadata": {},
   "outputs": [
    {
     "name": "stdout",
     "output_type": "stream",
     "text": [
      "(0, 'Bella Swan')\n",
      "(1, 'Edward Cullen')\n",
      "(2, 'Jacob Black')\n",
      "(3, 'Charlie Swan')\n",
      "(4, 'Carlisle Cullen')\n",
      "(5, 'Esme Cullen')\n",
      "(6, 'Alice Cullen')\n"
     ]
    }
   ],
   "source": [
    "twilight = ['Bella Swan', 'Edward Cullen', 'Jacob Black', 'Charlie Swan',\n",
    "            'Carlisle Cullen', 'Esme Cullen', 'Alice Cullen']\n",
    "for i in enumerate(twilight):\n",
    "    print(i)"
   ]
  },
  {
   "cell_type": "code",
   "execution_count": 1,
   "metadata": {},
   "outputs": [
    {
     "name": "stdout",
     "output_type": "stream",
     "text": [
      "'Vasco', 'Luis', 'Juan', 'Pedro', 'Gutierre', 'Juan'\n"
     ]
    }
   ],
   "source": [
    "conquistadores = ['Vasco Núnez de Balboa', 'Luis de Moscoso Alvarado', 'Juan de Cárdenas',\n",
    "                  'Pedro de Heredia', 'Gutierre de Miranda', 'Juan de Salcedo']\n",
    "nombre=[name.split()[0] for name in conquistadores]\n",
    "respuesta= str(nombre)[1:-1]\n",
    "print(respuesta)"
   ]
  },
  {
   "cell_type": "code",
   "execution_count": 42,
   "metadata": {},
   "outputs": [],
   "source": [
    "#Calcule los números primos hasta el número 10\n",
    "#con la fórmula de Fermat usando listas de comprensión.\n",
    "\n"
   ]
  },
  {
   "cell_type": "code",
   "execution_count": 45,
   "metadata": {},
   "outputs": [
    {
     "name": "stdout",
     "output_type": "stream",
     "text": [
      "['Jerry Coleman', 'Joe Garagiola, Sr.', 'Curt Gowdy', 'Russ Hodges']\n"
     ]
    }
   ],
   "source": [
    "major_league_players = {'Mel Allen':1978, 'Red Barber':1978, 'Jerry Coleman':2005,\n",
    "          'Joe Garagiola, Sr.':1991, 'Curt Gowdy':1984, 'Ken Harrelson':2020,\n",
    "          'Al Helfer':2019, 'Russ Hodges':1980}\n",
    "#for player in major_league_players.keys():\n",
    "player = [jugador for jugador in major_league_players if 1980<=major_league_players[jugador]<=2015]\n",
    "print(player)\n",
    "    "
   ]
  },
  {
   "cell_type": "code",
   "execution_count": null,
   "metadata": {},
   "outputs": [],
   "source": []
  }
 ],
 "metadata": {
  "kernelspec": {
   "display_name": "Python 3",
   "language": "python",
   "name": "python3"
  },
  "language_info": {
   "codemirror_mode": {
    "name": "ipython",
    "version": 3
   },
   "file_extension": ".py",
   "mimetype": "text/x-python",
   "name": "python",
   "nbconvert_exporter": "python",
   "pygments_lexer": "ipython3",
   "version": "3.8.3"
  }
 },
 "nbformat": 4,
 "nbformat_minor": 4
}
