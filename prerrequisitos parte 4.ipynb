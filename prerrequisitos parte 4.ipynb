{
 "cells": [
  {
   "cell_type": "code",
   "execution_count": 8,
   "metadata": {},
   "outputs": [
    {
     "name": "stdout",
     "output_type": "stream",
     "text": [
      "157.0\n"
     ]
    }
   ],
   "source": [
    "def area_elipse(a, b, c):\n",
    "    d= a*b*c\n",
    "    return d\n",
    "    \n",
    "\n",
    "a = 10\n",
    "b = 5\n",
    "c = 3.14\n",
    "d= area_elipse(a, b, c)\n",
    "print(d)"
   ]
  },
  {
   "cell_type": "code",
   "execution_count": 35,
   "metadata": {},
   "outputs": [
    {
     "name": "stdout",
     "output_type": "stream",
     "text": [
      "1677000\n",
      "1875570\n"
     ]
    }
   ],
   "source": [
    "#Realice una función que dada el tiempo\n",
    "#como string (\"465:50:00\") calcule a cuantos segundos equivalen\n",
    "def get_sec(time_str):\n",
    "    \"\"\"Get Seconds from time.\"\"\"\n",
    "    h, m, s = time_str.split(':')\n",
    "    return int(h) * 3600 + int(m) * 60 + int(s)\n",
    "\n",
    "\n",
    "print(get_sec('465:50:00'))\n",
    "print(get_sec('520:59:30'))"
   ]
  },
  {
   "cell_type": "code",
   "execution_count": 10,
   "metadata": {},
   "outputs": [
    {
     "name": "stdout",
     "output_type": "stream",
     "text": [
      "50.265482464\n"
     ]
    }
   ],
   "source": [
    "def area_circulo(r):\n",
    "    pi = 3.141592654\n",
    "    pi_medio = pi/2\n",
    "    print(pi*r**2)\n",
    "  \n",
    "area_circulo(4)\n",
    "\n",
    "#El problema del codigo es que habia una variable fuera de la funcion"
   ]
  },
  {
   "cell_type": "code",
   "execution_count": 32,
   "metadata": {},
   "outputs": [
    {
     "name": "stdout",
     "output_type": "stream",
     "text": [
      "ingrese la base10\n",
      "ingrese la altura5\n",
      "50\n"
     ]
    }
   ],
   "source": [
    "\n",
    "def area_paralelogramo(area,b,h):\n",
    "    area=b*h\n",
    "    return area\n",
    "    \"\"\"\n",
    "    CALCULA EL AREA DEL TRAPEZOIDE DATA BASE, ALTURA\n",
    "                   \n",
    "                 _______      _\n",
    "                |       |     |\n",
    "                |       |     h\n",
    "                |_______|    _|_\n",
    "                   b\n",
    "    \n",
    "    ENTRADAS:\n",
    "    b: base\n",
    "    h: altura\n",
    "    \n",
    "    RETORNA:\n",
    "    area_paralelogramo: el area del paralelogramo dada por la ecuación.\n",
    "   \"\"\"\n",
    "b=int(input('ingrese la base '))\n",
    "h=int(input('ingrese la altura '))\n",
    "area=int\n",
    "e= area_paralelogramo(area,b,h)\n",
    "print(e)\n",
    "    "
   ]
  },
  {
   "cell_type": "code",
   "execution_count": 94,
   "metadata": {},
   "outputs": [
    {
     "ename": "SyntaxError",
     "evalue": "expression cannot contain assignment, perhaps you meant \"==\"? (<ipython-input-94-5e3ff27bb04a>, line 6)",
     "output_type": "error",
     "traceback": [
      "\u001b[1;36m  File \u001b[1;32m\"<ipython-input-94-5e3ff27bb04a>\"\u001b[1;36m, line \u001b[1;32m6\u001b[0m\n\u001b[1;33m    avg = list(map(lambda a:a=sum(n_list)/len(n_list)))\u001b[0m\n\u001b[1;37m                   ^\u001b[0m\n\u001b[1;31mSyntaxError\u001b[0m\u001b[1;31m:\u001b[0m expression cannot contain assignment, perhaps you meant \"==\"?\n"
     ]
    }
   ],
   "source": [
    "n_list = [list(range(10)), list(range(2, 20)), list(range(5, 40, 2))]\n",
    "\n",
    "#def avg(n_list):\n",
    " #   av = sum(n_list)/len(n_list)\n",
    "  #  return av\n",
    "avg = list(map(lambda a:a=sum(n_list)/len(n_list)))\n",
    "#promedio = list(map(lambda avg, n_list:avg=sum(n_list)/len(n_list)))\n",
    "print()"
   ]
  },
  {
   "cell_type": "code",
   "execution_count": 53,
   "metadata": {},
   "outputs": [
    {
     "data": {
      "text/plain": [
       "([4.5, 10.5, 22.0],\n",
       " ' ',\n",
       " [[0, 1, 2, 3, 4, 5, 6, 7, 8, 9],\n",
       "  [2, 3, 4, 5, 6, 7, 8, 9, 10, 11, 12, 13, 14, 15, 16, 17, 18, 19],\n",
       "  [5, 7, 9, 11, 13, 15, 17, 19, 21, 23, 25, 27, 29, 31, 33, 35, 37, 39]])"
      ]
     },
     "execution_count": 53,
     "metadata": {},
     "output_type": "execute_result"
    }
   ],
   "source": [
    "\n",
    "n_list = [list(range(10)), list(range(2, 20)), list(range(5, 40, 2))]\n",
    "\n",
    "def avg(n_list):\n",
    "    av = sum(n_list)/len(n_list)\n",
    "    return av\n",
    "\n",
    "promedio = list(map(avg, n_list))\n",
    "promedio, \" \", n_list"
   ]
  },
  {
   "cell_type": "code",
   "execution_count": 45,
   "metadata": {},
   "outputs": [
    {
     "name": "stdout",
     "output_type": "stream",
     "text": [
      "[1, -1, 5, -5]\n"
     ]
    }
   ],
   "source": [
    "valores = [1, 20, -1, 2, 5, 4, -2, -5, 10]\n",
    "impares= lambda v: v%2 !=0 \n",
    "vals = list(filter(impares, valores))\n",
    "print(vals)"
   ]
  },
  {
   "cell_type": "code",
   "execution_count": 66,
   "metadata": {},
   "outputs": [
    {
     "name": "stdout",
     "output_type": "stream",
     "text": [
      "<generator object generador at 0x000001C7ABB497B0>\n"
     ]
    }
   ],
   "source": [
    "def generador(x):\n",
    "    i = 0\n",
    "    while i < x:\n",
    "        yield i\n",
    "        i += 1\n",
    "        \n",
    "print(generador(6))"
   ]
  },
  {
   "cell_type": "code",
   "execution_count": 67,
   "metadata": {},
   "outputs": [
    {
     "name": "stdout",
     "output_type": "stream",
     "text": [
      "0\n",
      "1\n",
      "2\n",
      "3\n",
      "4\n",
      "5\n"
     ]
    }
   ],
   "source": [
    "for n in generador(6):\n",
    "    print(n)"
   ]
  },
  {
   "cell_type": "code",
   "execution_count": 75,
   "metadata": {},
   "outputs": [
    {
     "ename": "IndentationError",
     "evalue": "expected an indented block (<ipython-input-75-a95775599a56>, line 5)",
     "output_type": "error",
     "traceback": [
      "\u001b[1;36m  File \u001b[1;32m\"<ipython-input-75-a95775599a56>\"\u001b[1;36m, line \u001b[1;32m5\u001b[0m\n\u001b[1;33m    for i, frase in enumerador(frases, 1):\u001b[0m\n\u001b[1;37m    ^\u001b[0m\n\u001b[1;31mIndentationError\u001b[0m\u001b[1;31m:\u001b[0m expected an indented block\n"
     ]
    }
   ],
   "source": [
    "frases = [\"Practical GUI\", \"Advanced Programming\", \"Building Intelligent\", \"The AI Workshop\", \"Data Analysis\"]\n",
    "\n",
    "def enumerador(f, i):\n",
    "    \n",
    "for i, frase in enumerador(frases, 1):\n",
    "    print(\"Book {}: {}\".format(i, frase))"
   ]
  },
  {
   "cell_type": "code",
   "execution_count": null,
   "metadata": {},
   "outputs": [],
   "source": []
  }
 ],
 "metadata": {
  "kernelspec": {
   "display_name": "Python 3",
   "language": "python",
   "name": "python3"
  },
  "language_info": {
   "codemirror_mode": {
    "name": "ipython",
    "version": 3
   },
   "file_extension": ".py",
   "mimetype": "text/x-python",
   "name": "python",
   "nbconvert_exporter": "python",
   "pygments_lexer": "ipython3",
   "version": "3.8.3"
  }
 },
 "nbformat": 4,
 "nbformat_minor": 4
}
