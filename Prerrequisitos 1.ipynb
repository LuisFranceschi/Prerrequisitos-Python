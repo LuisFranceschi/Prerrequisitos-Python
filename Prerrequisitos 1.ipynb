{
 "cells": [
  {
   "cell_type": "code",
   "execution_count": 2,
   "metadata": {},
   "outputs": [
    {
     "name": "stdout",
     "output_type": "stream",
     "text": [
      "Resultado esperado: \n",
      "28.666666666666668\n"
     ]
    }
   ],
   "source": [
    "A= (30+16+40)/3\n",
    "print('Resultado esperado: ')\n",
    "print(A)"
   ]
  },
  {
   "cell_type": "code",
   "execution_count": 11,
   "metadata": {},
   "outputs": [
    {
     "name": "stdout",
     "output_type": "stream",
     "text": [
      "El resutado es 2.7999999999999994\n"
     ]
    }
   ],
   "source": [
    "P= 6*2.8\n",
    "V=P/(12*0.5)\n",
    "print('El resutado es',V)\n"
   ]
  },
  {
   "cell_type": "code",
   "execution_count": 12,
   "metadata": {},
   "outputs": [
    {
     "ename": "SyntaxError",
     "evalue": "invalid syntax (<ipython-input-12-d945003a9f06>, line 7)",
     "output_type": "error",
     "traceback": [
      "\u001b[1;36m  File \u001b[1;32m\"<ipython-input-12-d945003a9f06>\"\u001b[1;36m, line \u001b[1;32m7\u001b[0m\n\u001b[1;33m    Bajo el estándar PEP8, serían las líneas 2 y 4, averigue porqué\u001b[0m\n\u001b[1;37m         ^\u001b[0m\n\u001b[1;31mSyntaxError\u001b[0m\u001b[1;31m:\u001b[0m invalid syntax\n"
     ]
    }
   ],
   "source": [
    "¿Qué linea de python está bien formulada?\n",
    "\n",
    "print(((1+ 24)) + -10//2)\n",
    "print((22 - 12)%(3 + 2))\n",
    "print ((2 + 16 + 3) / 17)\n",
    "print(8/3 - 6*6)\n",
    "Bajo el estándar PEP8, serían las líneas 2 y 4, averigue porqué\n",
    "Respuesta: las operaciones 1 y 3 no les hace falta mas parentesis para poder terminar la linea de codigo."
   ]
  },
  {
   "cell_type": "code",
   "execution_count": 26,
   "metadata": {},
   "outputs": [
    {
     "name": "stdout",
     "output_type": "stream",
     "text": [
      "Resultado esperado:  3281.325 2415.6\n"
     ]
    }
   ],
   "source": [
    "A = 1e3\n",
    "B = 1.8e3\n",
    " \n",
    "# decremente la variable del recipiente 2 al 20%\n",
    "B-= B*0.2\n",
    "# añada la variable de recipiente 1 a recipiente 2\n",
    "B+=A\n",
    "\n",
    "# incremente el volumen del recipiente 1 al 5%\n",
    "A+= A*0.05\n",
    "\n",
    "# decremente el recipiente 1 por 15%\n",
    "A-= A*0.15\n",
    "\n",
    "# decremente el 0.3% del recipiente 1, \n",
    "A-= A*0.03\n",
    "# decremente el 1% del recipiente2\n",
    "B-= B*0.01\n",
    "# sume ambas variables en el recipiente1\n",
    "A= A+B\n",
    "\n",
    "print('Resultado esperado: ', A, B)"
   ]
  },
  {
   "cell_type": "code",
   "execution_count": 27,
   "metadata": {},
   "outputs": [
    {
     "data": {
      "text/plain": [
       "5.5"
      ]
     },
     "execution_count": 27,
     "metadata": {},
     "output_type": "execute_result"
    }
   ],
   "source": [
    "3+2.5"
   ]
  },
  {
   "cell_type": "code",
   "execution_count": 28,
   "metadata": {},
   "outputs": [
    {
     "data": {
      "text/plain": [
       "5"
      ]
     },
     "execution_count": 28,
     "metadata": {},
     "output_type": "execute_result"
    }
   ],
   "source": [
    "int(3+2.5)"
   ]
  },
  {
   "cell_type": "code",
   "execution_count": 29,
   "metadata": {},
   "outputs": [
    {
     "data": {
      "text/plain": [
       "4.0"
      ]
     },
     "execution_count": 29,
     "metadata": {},
     "output_type": "execute_result"
    }
   ],
   "source": [
    "2 + float(2)"
   ]
  },
  {
   "cell_type": "code",
   "execution_count": 30,
   "metadata": {},
   "outputs": [
    {
     "data": {
      "text/plain": [
       "4"
      ]
     },
     "execution_count": 30,
     "metadata": {},
     "output_type": "execute_result"
    }
   ],
   "source": [
    "2+2"
   ]
  },
  {
   "cell_type": "code",
   "execution_count": 31,
   "metadata": {},
   "outputs": [
    {
     "data": {
      "text/plain": [
       "float"
      ]
     },
     "execution_count": 31,
     "metadata": {},
     "output_type": "execute_result"
    }
   ],
   "source": [
    "type(2+2.0)"
   ]
  },
  {
   "cell_type": "code",
   "execution_count": 32,
   "metadata": {},
   "outputs": [
    {
     "data": {
      "text/plain": [
       "True"
      ]
     },
     "execution_count": 32,
     "metadata": {},
     "output_type": "execute_result"
    }
   ],
   "source": [
    "tengoHambre = True\n",
    "tengoHambre"
   ]
  },
  {
   "cell_type": "code",
   "execution_count": 33,
   "metadata": {},
   "outputs": [
    {
     "data": {
      "text/plain": [
       "False"
      ]
     },
     "execution_count": 33,
     "metadata": {},
     "output_type": "execute_result"
    }
   ],
   "source": [
    "tengoCOVID = False\n",
    "tengoCOVID"
   ]
  },
  {
   "cell_type": "code",
   "execution_count": 34,
   "metadata": {},
   "outputs": [
    {
     "data": {
      "text/plain": [
       "True"
      ]
     },
     "execution_count": 34,
     "metadata": {},
     "output_type": "execute_result"
    }
   ],
   "source": [
    "10 > 2"
   ]
  },
  {
   "cell_type": "code",
   "execution_count": 35,
   "metadata": {},
   "outputs": [
    {
     "data": {
      "text/plain": [
       "False"
      ]
     },
     "execution_count": 35,
     "metadata": {},
     "output_type": "execute_result"
    }
   ],
   "source": [
    "2.2 > 2.2"
   ]
  },
  {
   "cell_type": "code",
   "execution_count": 36,
   "metadata": {},
   "outputs": [
    {
     "data": {
      "text/plain": [
       "False"
      ]
     },
     "execution_count": 36,
     "metadata": {},
     "output_type": "execute_result"
    }
   ],
   "source": [
    "\n",
    "a = 0.3\n",
    "b = 0.1 + 0.1 + 0.1\n",
    "a == b"
   ]
  },
  {
   "cell_type": "code",
   "execution_count": 37,
   "metadata": {},
   "outputs": [
    {
     "data": {
      "text/plain": [
       "True"
      ]
     },
     "execution_count": 37,
     "metadata": {},
     "output_type": "execute_result"
    }
   ],
   "source": [
    "a != b"
   ]
  },
  {
   "cell_type": "code",
   "execution_count": 38,
   "metadata": {},
   "outputs": [
    {
     "data": {
      "text/plain": [
       "False"
      ]
     },
     "execution_count": 38,
     "metadata": {},
     "output_type": "execute_result"
    }
   ],
   "source": [
    "tengoSed = True\n",
    "yaComi = False\n",
    "esVerdad = False\n",
    "\n",
    "tengoSed and yaComi and esVerdad"
   ]
  },
  {
   "cell_type": "code",
   "execution_count": 39,
   "metadata": {},
   "outputs": [
    {
     "data": {
      "text/plain": [
       "True"
      ]
     },
     "execution_count": 39,
     "metadata": {},
     "output_type": "execute_result"
    }
   ],
   "source": [
    "tengoSed or yaComi or esVerdad"
   ]
  },
  {
   "cell_type": "code",
   "execution_count": 40,
   "metadata": {},
   "outputs": [
    {
     "data": {
      "text/plain": [
       "True"
      ]
     },
     "execution_count": 40,
     "metadata": {},
     "output_type": "execute_result"
    }
   ],
   "source": [
    "tengoSed and not yaComi and not esVerdad"
   ]
  },
  {
   "cell_type": "code",
   "execution_count": 42,
   "metadata": {},
   "outputs": [
    {
     "name": "stdout",
     "output_type": "stream",
     "text": [
      "Resultado esperado:  True\n"
     ]
    }
   ],
   "source": [
    "# temperatura de pais vs área de estudio\n",
    "tempPTY, areaPTY = 38.5, 102\n",
    "tempCOL, areaCOL = 29.2, 150\n",
    "\n",
    "# temp/m2\n",
    "tempm2_pty = tempPTY/areaPTY\n",
    "tempm2_col = tempCOL/areaCOL\n",
    "\n",
    "# escriba el restante de código que indica si la temp/m2\n",
    "#de pty es mayor a la temp/m2 de col\n",
    "C=tempm2_pty > tempm2_col\n",
    "print('Resultado esperado: ',C )"
   ]
  },
  {
   "cell_type": "code",
   "execution_count": 43,
   "metadata": {},
   "outputs": [
    {
     "ename": "SyntaxError",
     "evalue": "invalid character in identifier (<ipython-input-43-3fef395aee75>, line 2)",
     "output_type": "error",
     "traceback": [
      "\u001b[1;36m  File \u001b[1;32m\"<ipython-input-43-3fef395aee75>\"\u001b[1;36m, line \u001b[1;32m2\u001b[0m\n\u001b[1;33m    ¿Porqué en Python para comparar no podemos utilizar = sino ==?\u001b[0m\n\u001b[1;37m          ^\u001b[0m\n\u001b[1;31mSyntaxError\u001b[0m\u001b[1;31m:\u001b[0m invalid character in identifier\n"
     ]
    }
   ],
   "source": [
    "Pregunta\n",
    "¿Porqué en Python para comparar no podemos utilizar = sino ==?\n",
    "La diferencia es que = es un operadador de asignacion, es decir con ello le asignas un valor\n",
    "a una variable y == es un operador de igualdad que es para comparar dos variables."
   ]
  },
  {
   "cell_type": "code",
   "execution_count": 46,
   "metadata": {},
   "outputs": [
    {
     "name": "stdout",
     "output_type": "stream",
     "text": [
      "Ser-O-No-Ser-He allí-El Dilema\n"
     ]
    }
   ],
   "source": [
    "# TODO:  Arregle lo que está mal\n",
    "\n",
    "quote = 'Ser-O-No-Ser-He allí-El Dilema'\n",
    "\n",
    "# LA RESPUESTA ESPERADA DEBE SER:  Ser-O-No-Ser-He allí-El Dilema\n",
    "print (quote)"
   ]
  },
  {
   "cell_type": "code",
   "execution_count": 49,
   "metadata": {},
   "outputs": [
    {
     "name": "stdout",
     "output_type": "stream",
     "text": [
      "Resultado esperado 37 y tipo <class 'int'>\n"
     ]
    }
   ],
   "source": [
    "fruta = 25\n",
    "vegetales = 12\n",
    "total_fruta_y_vegetal= fruta + vegetales\n",
    "print ('Resultado esperado' , total_fruta_y_vegetal, 'y tipo',type(total_fruta_y_vegetal))"
   ]
  },
  {
   "cell_type": "code",
   "execution_count": 51,
   "metadata": {},
   "outputs": [
    {
     "name": "stdout",
     "output_type": "stream",
     "text": [
      "Ignacio exited the url http://minegocio.com/id/nmasaya/me at 04:50\n"
     ]
    }
   ],
   "source": [
    "usernames = 'Ignacio'\n",
    "ts= \"04:50\"\n",
    "url = \"http://minegocio.com/id/nmasaya/me\"\n",
    "print (usernames,'exited the url', url , 'at', ts)"
   ]
  },
  {
   "cell_type": "code",
   "execution_count": 53,
   "metadata": {},
   "outputs": [
    {
     "name": "stdout",
     "output_type": "stream",
     "text": [
      "True\n"
     ]
    }
   ],
   "source": [
    "nombre = \"Juan\"\n",
    "seg_nombre = \"Javier\"\n",
    "apellido = \"Jimenez\"\n",
    "\n",
    "# calcular el largo del nombre\n",
    "name_length = len(nombre) + len(seg_nombre) + len(apellido)\n",
    "\n",
    "\n",
    "# Ahora que calculó el largo del nombre intente  ver si cabe en la licencia\n",
    "driving_license_character_limit = 28\n",
    "print(name_length <= driving_license_character_limit)"
   ]
  },
  {
   "cell_type": "code",
   "execution_count": 54,
   "metadata": {},
   "outputs": [
    {
     "name": "stdout",
     "output_type": "stream",
     "text": [
      "<class 'str'> <class 'float'> <class 'int'>\n"
     ]
    }
   ],
   "source": [
    "A=\"12\"\n",
    "B= 12.3\n",
    "C= len('i am a string')\n",
    "print(type(A), type(B), type(C))"
   ]
  },
  {
   "cell_type": "code",
   "execution_count": 56,
   "metadata": {},
   "outputs": [
    {
     "ename": "AttributeError",
     "evalue": "'float' object has no attribute 'islower'",
     "output_type": "error",
     "traceback": [
      "\u001b[1;31m---------------------------------------------------------------------------\u001b[0m",
      "\u001b[1;31mAttributeError\u001b[0m                            Traceback (most recent call last)",
      "\u001b[1;32m<ipython-input-56-b58ca2f84246>\u001b[0m in \u001b[0;36m<module>\u001b[1;34m\u001b[0m\n\u001b[0;32m      1\u001b[0m \u001b[0mX\u001b[0m\u001b[1;33m=\u001b[0m\u001b[1;36m2.8\u001b[0m\u001b[1;33m\u001b[0m\u001b[1;33m\u001b[0m\u001b[0m\n\u001b[1;32m----> 2\u001b[1;33m \u001b[0mprint\u001b[0m\u001b[1;33m(\u001b[0m\u001b[0mX\u001b[0m\u001b[1;33m.\u001b[0m\u001b[0mislower\u001b[0m\u001b[1;33m(\u001b[0m\u001b[1;33m)\u001b[0m\u001b[1;33m)\u001b[0m\u001b[1;33m\u001b[0m\u001b[1;33m\u001b[0m\u001b[0m\n\u001b[0m",
      "\u001b[1;31mAttributeError\u001b[0m: 'float' object has no attribute 'islower'"
     ]
    }
   ],
   "source": [
    "X=2.8\n",
    "print(X.islower())"
   ]
  },
  {
   "cell_type": "code",
   "execution_count": 61,
   "metadata": {},
   "outputs": [
    {
     "name": "stdout",
     "output_type": "stream",
     "text": [
      "False\n"
     ]
    }
   ],
   "source": [
    "B=\"0.92 + 0.50 + 0.92\"\n",
    "print(B.isdecimal())"
   ]
  },
  {
   "cell_type": "code",
   "execution_count": 65,
   "metadata": {},
   "outputs": [
    {
     "name": "stdout",
     "output_type": "stream",
     "text": [
      "Por solo 20.00 palos!\n"
     ]
    }
   ],
   "source": [
    "A = \"Por solo {price:.2f} palos!\"\n",
    "print(A.format(price = 20))"
   ]
  },
  {
   "cell_type": "code",
   "execution_count": 68,
   "metadata": {},
   "outputs": [
    {
     "name": "stdout",
     "output_type": "stream",
     "text": [
      "31\n"
     ]
    }
   ],
   "source": [
    "mes = 8\n",
    "dias_del_mes = [31,28,31,30,31,30,31,31,30,31,30,31]\n",
    "\n",
    "# Use indexing para determinar el número de días en el mes 8\n",
    "num_dias =  dias_del_mes[7]\n",
    "print(num_dias)"
   ]
  },
  {
   "cell_type": "code",
   "execution_count": 72,
   "metadata": {},
   "outputs": [
    {
     "name": "stdout",
     "output_type": "stream",
     "text": [
      "['Mar 20, 1492', 'Abril 12, 1999', 'Jun 12, 2010']\n"
     ]
    }
   ],
   "source": [
    "dias = ['Feb 8, 1980', 'Dic 8, 1949', \n",
    "        'Mar 20, 1492', 'Abril 12, 1999',\n",
    "        'Jun 12, 2010']\n",
    "print(dias[2:5])"
   ]
  },
  {
   "cell_type": "code",
   "execution_count": 73,
   "metadata": {},
   "outputs": [
    {
     "name": "stdout",
     "output_type": "stream",
     "text": [
      "4\n",
      "2\n"
     ]
    }
   ],
   "source": [
    "a = [1, 5, 8]\n",
    "b = [2, 6, 9, 10]\n",
    "c = [100, 200]\n",
    "\n",
    "print(max([len(a), len(b), len(c)]))\n",
    "print(min([len(a), len(b), len(c)]))"
   ]
  },
  {
   "cell_type": "code",
   "execution_count": 75,
   "metadata": {},
   "outputs": [
    {
     "name": "stdout",
     "output_type": "stream",
     "text": [
      "Cuatro & Dos & Tres & Uno\n"
     ]
    }
   ],
   "source": [
    "names = [\"Uno\", \"Dos\", \"Tres\", \"Cuatro\"]\n",
    "print(\" & \".join(sorted(names)))"
   ]
  },
  {
   "cell_type": "code",
   "execution_count": 76,
   "metadata": {},
   "outputs": [
    {
     "name": "stdout",
     "output_type": "stream",
     "text": [
      "['Armando', 'Ignacio', 'Luis', 'Norberto', 'Tito']\n"
     ]
    }
   ],
   "source": [
    "names = [\"Norberto\", \"Ignacio\", \"Luis\", \"Tito\"]\n",
    "names.append(\"Armando\")\n",
    "print(sorted(names))"
   ]
  },
  {
   "cell_type": "code",
   "execution_count": 77,
   "metadata": {},
   "outputs": [
    {
     "name": "stdout",
     "output_type": "stream",
     "text": [
      "False\n",
      "8\n"
     ]
    }
   ],
   "source": [
    "tuple_a = 2, 8\n",
    "tuple_b = (8, 2)\n",
    "\n",
    "print(tuple_a == tuple_b)\n",
    "print(tuple_a[1])"
   ]
  },
  {
   "cell_type": "code",
   "execution_count": 78,
   "metadata": {},
   "outputs": [
    {
     "name": "stdout",
     "output_type": "stream",
     "text": [
      "6\n"
     ]
    }
   ],
   "source": [
    "a = [1, 2, 2, 4, 4, 4, 8, 8, 8, 8]\n",
    "b = set(a)\n",
    "print(len(a) - len(b))"
   ]
  },
  {
   "cell_type": "code",
   "execution_count": 80,
   "metadata": {},
   "outputs": [
    {
     "name": "stdout",
     "output_type": "stream",
     "text": [
      "{1, 2, 7, 9, 12, 15, 111, -1}\n"
     ]
    }
   ],
   "source": [
    "a = [0, -1, -1, 2, 1, 2, 7, 9, 12, 15]\n",
    "b = set(a)\n",
    "b.add(111)\n",
    "b.pop()\n",
    "print(b)"
   ]
  },
  {
   "cell_type": "code",
   "execution_count": 81,
   "metadata": {},
   "outputs": [
    {
     "name": "stdout",
     "output_type": "stream",
     "text": [
      "{'Panama': 5.9, 'Costa Rica': 6.2, 'Colombia': 8.4, 'Mexico': 1.2}\n"
     ]
    }
   ],
   "source": [
    "Dict= {'Panama':5.9, 'Costa Rica':6.2, 'Colombia':8.4, 'Mexico':1.2}\n",
    "print(Dict)"
   ]
  },
  {
   "cell_type": "code",
   "execution_count": null,
   "metadata": {},
   "outputs": [],
   "source": [
    "#¿Cuáles de las siguientes pueden ser utilizadas como diccionario?\n",
    "\n",
    "#str\n",
    "#list\n",
    "#int\n",
    "#float\n",
    "#Respuesta: Todas menos las listas"
   ]
  },
  {
   "cell_type": "code",
   "execution_count": 83,
   "metadata": {},
   "outputs": [
    {
     "name": "stdout",
     "output_type": "stream",
     "text": [
      "{'Panama': 5.9, 'Costa Rica': 6.2, 'Colombia': 8.4, 'Mexico': 1.2}\n",
      "None\n"
     ]
    }
   ],
   "source": [
    "Dict= {'Panama':5.9, 'Costa Rica':6.2, 'Colombia':8.4, 'Mexico':1.2}\n",
    "print(Dict)\n",
    "print(Dict.get('Nicaragua'))"
   ]
  },
  {
   "cell_type": "code",
   "execution_count": 108,
   "metadata": {},
   "outputs": [
    {
     "name": "stdout",
     "output_type": "stream",
     "text": [
      "15\n",
      "2\n",
      "3\n",
      "0.8\n"
     ]
    }
   ],
   "source": [
    "items = {'harina': [20, 10, 15, 8, 32, 15], \n",
    " 'carne': [3,4,2,8,2,4], \n",
    " 'pan': [2, 3, 3], \n",
    " 'cc': [0.3, 0.5, 0.8, 0.3, 1]}\n",
    "print(items['harina'][2])\n",
    "print(items['carne'][2])\n",
    "print(items['pan'][2])\n",
    "print(items['cc'][2])"
   ]
  },
  {
   "cell_type": "code",
   "execution_count": 158,
   "metadata": {},
   "outputs": [
    {
     "name": "stdout",
     "output_type": "stream",
     "text": [
      "{'Ana': {'edad': 24, 'peso': 110, 'sexo': 'F', 'Estudiante': True}, 'Javi': {'edad': 24, 'peso': 110, 'sexo': 'F', 'Estudiante': False}}\n",
      "True\n",
      "False\n"
     ]
    }
   ],
   "source": [
    "datos = {'Ana':{'edad':24, 'peso':110, 'sexo':'F'},\n",
    "         'Javi':{'edad':12, 'peso':90, 'sexo':'M'}}\n",
    "datos.update({'Ana':{'edad':24, 'peso':110, 'sexo':'F', 'Estudiante':True}})\n",
    "datos.update({'Javi':{'edad':24, 'peso':110, 'sexo':'F', 'Estudiante':False}})\n",
    "print(datos)\n",
    "print(datos['Ana']['Estudiante'])\n",
    "print(datos['Javi']['Estudiante'])"
   ]
  },
  {
   "cell_type": "code",
   "execution_count": null,
   "metadata": {},
   "outputs": [],
   "source": []
  }
 ],
 "metadata": {
  "kernelspec": {
   "display_name": "Python 3",
   "language": "python",
   "name": "python3"
  },
  "language_info": {
   "codemirror_mode": {
    "name": "ipython",
    "version": 3
   },
   "file_extension": ".py",
   "mimetype": "text/x-python",
   "name": "python",
   "nbconvert_exporter": "python",
   "pygments_lexer": "ipython3",
   "version": "3.8.3"
  }
 },
 "nbformat": 4,
 "nbformat_minor": 4
}
